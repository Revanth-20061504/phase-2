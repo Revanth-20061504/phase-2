{
  "cells": [
    {
      "cell_type": "markdown",
      "metadata": {
        "id": "view-in-github",
        "colab_type": "text"
      },
      "source": [
        "<a href=\"https://colab.research.google.com/github/Revanth-20061504/phase-2/blob/main/Untitled2.ipynb\" target=\"_parent\"><img src=\"https://colab.research.google.com/assets/colab-badge.svg\" alt=\"Open In Colab\"/></a>"
      ]
    },
    {
      "cell_type": "code",
      "execution_count": null,
      "metadata": {
        "colab": {
          "background_save": true,
          "base_uri": "https://localhost:8080/"
        },
        "id": "n3OGYXgA7W7l",
        "outputId": "ca6e48e5-829b-4f15-f2c9-d480ee9aab2c"
      },
      "outputs": [
        {
          "name": "stdout",
          "output_type": "stream",
          "text": [
            "📦 Welcome to ShopBot – Your E-Commerce Policy Assistant!\n",
            "Type your question about returns, delivery, refund, etc. Type 'exit' to quit.\n",
            "\n",
            "ShopBot: Refunds are processed within 5–10 business days after product verification.\n"
          ]
        }
      ],
      "source": [
        "\n",
        "\n",
        "faq_data = {\n",
        "    \"return\": \"Returns are accepted within 7 days of delivery for eligible products.\",\n",
        "    \"delivery\": \"Delivery is expected within 5–7 business days unless stated otherwise.\",\n",
        "    \"refund\": \"Refunds are processed within 5–10 business days after product verification.\",\n",
        "    \"cancellation\": \"Orders can be cancelled before shipment. Shipped orders must follow the return process.\",\n",
        "    \"shipping\": \"We use trusted courier services for nationwide delivery.\",\n",
        "    \"cod\": \"Cash on Delivery is available only for orders below ₹10,000.\",\n",
        "    \"non-returnable\": \"Innerwear, personal hygiene, and perishable goods are non-returnable.\",\n",
        "    \"warranty\": \"For warranty-related issues, customers must contact the manufacturer directly.\",\n",
        "    \"damage\": \"Report damaged products with photo evidence within 48 hours of delivery.\",\n",
        "    \"wrong product\": \"Raise a complaint within 48 hours if an incorrect product is received.\",\n",
        "    \"tracking\": \"Customers can track orders through their account dashboard or email links.\",\n",
        "    \"support\": \"Support is available from Monday to Saturday, 9:00 AM to 6:00 PM.\"\n",
        "}\n",
        "\n",
        "def chatbot():\n",
        "    print(\"📦 Welcome to ShopBot – Your E-Commerce Policy Assistant!\")\n",
        "    print(\"Type your question about returns, delivery, refund, etc. Type 'exit' to quit.\\n\")\n",
        "\n",
        "    while True:\n",
        "        user_input = input(\"You: \").lower()\n",
        "        if user_input == \"exit\":\n",
        "            print(\"ShopBot: Thank you for chatting. Have a great day!\")\n",
        "            break\n",
        "\n",
        "        found = False\n",
        "        for keyword in faq_data:\n",
        "            if keyword in user_input:\n",
        "                print(\"ShopBot:\", faq_data[keyword])\n",
        "                found = True\n",
        "                break\n",
        "\n",
        "        if not found:\n",
        "            print(\"ShopBot: Sorry, I couldn't find an answer for that. Please check our full Terms & Conditions.\")\n",
        "\n",
        "# Run the chatbot\n",
        "chatbot()\n"
      ]
    }
  ],
  "metadata": {
    "colab": {
      "provenance": [],
      "authorship_tag": "ABX9TyNHCBRC5udFzVV3eimeDIYn",
      "include_colab_link": true
    },
    "kernelspec": {
      "display_name": "Python 3",
      "name": "python3"
    },
    "language_info": {
      "name": "python"
    }
  },
  "nbformat": 4,
  "nbformat_minor": 0
}